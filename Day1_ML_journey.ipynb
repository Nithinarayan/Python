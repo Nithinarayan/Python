{
  "nbformat": 4,
  "nbformat_minor": 0,
  "metadata": {
    "colab": {
      "provenance": []
    },
    "kernelspec": {
      "name": "python3",
      "display_name": "Python 3"
    },
    "language_info": {
      "name": "python"
    }
  },
  "cells": [
    {
      "cell_type": "code",
      "execution_count": null,
      "metadata": {
        "colab": {
          "base_uri": "https://localhost:8080/"
        },
        "id": "HpmbKqI7jltH",
        "outputId": "321f0039-5b22-482c-cc41-4fc4b70f59da"
      },
      "outputs": [
        {
          "output_type": "stream",
          "name": "stdout",
          "text": [
            "enter sentence with space :hi bye hi bye sorry boss\n",
            "boss bye hi sorry\n"
          ]
        }
      ],
      "source": [
        "sentence = input(\"enter sentence with space :\")\n",
        "words = sentence.split(' ')\n",
        "setwords = set(words)\n",
        "soretedwords = sorted(setwords)\n",
        "print(\" \".join(soretedwords))\n",
        "\n"
      ]
    },
    {
      "cell_type": "code",
      "source": [],
      "metadata": {
        "id": "0I4dCOJQ1r2e"
      },
      "execution_count": null,
      "outputs": []
    },
    {
      "cell_type": "code",
      "source": [
        "list_num = [10,11,12,13,14,15,16,17,18,19,20]\n",
        "listlen = len(list_num)\n",
        "print(\"number of numbers in list :\", list_num)\n",
        "print(\"\\n len of the list :\", listlen)\n",
        "halfval = int(listlen/2)\n",
        "print(\"half value %s :\" %halfval)\n",
        "set_1 = list_num[:halfval]\n",
        "set_2 = list_num[halfval:]\n",
        "print(\"\\nFirst half : \", set_1)\n",
        "print(\"\\nsecond half : \", set_2)\n"
      ],
      "metadata": {
        "id": "MHDecgSW3LFs",
        "outputId": "3897d130-bb7e-48cb-ab02-b9e8e7e32504",
        "colab": {
          "base_uri": "https://localhost:8080/"
        }
      },
      "execution_count": null,
      "outputs": [
        {
          "output_type": "stream",
          "name": "stdout",
          "text": [
            "number of numbers in list : [10, 11, 12, 13, 14, 15, 16, 17, 18, 19, 20]\n",
            "\n",
            " len of the list : 11\n",
            "half value 5 :\n",
            "\n",
            "First half :  [10, 11, 12, 13, 14]\n",
            "\n",
            "second half :  [15, 16, 17, 18, 19, 20]\n"
          ]
        }
      ]
    },
    {
      "cell_type": "code",
      "source": [
        "typevar = [[1,2,3,3],[3,4,5]]\n",
        "if type(typevar) == int:\n",
        "  print(\"interger type\")\n",
        "elif type(typevar) == str:\n",
        "  print(\"string type\")\n",
        "elif type(typevar) == float:\n",
        "  print(\"float type\")\n",
        "elif type(typevar) == complex:\n",
        "  print(\"complex type\")\n",
        "else:\n",
        "  print(\" exact type is %s :\" %(type(typevar)))"
      ],
      "metadata": {
        "id": "kguZ124lP9rZ",
        "outputId": "42042373-2bdf-4f22-fc7f-bedf6ea65d91",
        "colab": {
          "base_uri": "https://localhost:8080/"
        }
      },
      "execution_count": null,
      "outputs": [
        {
          "output_type": "stream",
          "name": "stdout",
          "text": [
            " exact type is <class 'list'> :\n"
          ]
        }
      ]
    },
    {
      "cell_type": "code",
      "source": [
        "!pip install spacy\n",
        "!python -m spacy download en_core_web_sm\n"
      ],
      "metadata": {
        "id": "Vtm4jGcZ1teQ",
        "outputId": "4c8e6f2a-b992-49ee-bf90-7831d3d9478c",
        "colab": {
          "base_uri": "https://localhost:8080/"
        }
      },
      "execution_count": 1,
      "outputs": [
        {
          "output_type": "stream",
          "name": "stdout",
          "text": [
            "Requirement already satisfied: spacy in /usr/local/lib/python3.11/dist-packages (3.8.5)\n",
            "Requirement already satisfied: spacy-legacy<3.1.0,>=3.0.11 in /usr/local/lib/python3.11/dist-packages (from spacy) (3.0.12)\n",
            "Requirement already satisfied: spacy-loggers<2.0.0,>=1.0.0 in /usr/local/lib/python3.11/dist-packages (from spacy) (1.0.5)\n",
            "Requirement already satisfied: murmurhash<1.1.0,>=0.28.0 in /usr/local/lib/python3.11/dist-packages (from spacy) (1.0.12)\n",
            "Requirement already satisfied: cymem<2.1.0,>=2.0.2 in /usr/local/lib/python3.11/dist-packages (from spacy) (2.0.11)\n",
            "Requirement already satisfied: preshed<3.1.0,>=3.0.2 in /usr/local/lib/python3.11/dist-packages (from spacy) (3.0.9)\n",
            "Requirement already satisfied: thinc<8.4.0,>=8.3.4 in /usr/local/lib/python3.11/dist-packages (from spacy) (8.3.6)\n",
            "Requirement already satisfied: wasabi<1.2.0,>=0.9.1 in /usr/local/lib/python3.11/dist-packages (from spacy) (1.1.3)\n",
            "Requirement already satisfied: srsly<3.0.0,>=2.4.3 in /usr/local/lib/python3.11/dist-packages (from spacy) (2.5.1)\n",
            "Requirement already satisfied: catalogue<2.1.0,>=2.0.6 in /usr/local/lib/python3.11/dist-packages (from spacy) (2.0.10)\n",
            "Requirement already satisfied: weasel<0.5.0,>=0.1.0 in /usr/local/lib/python3.11/dist-packages (from spacy) (0.4.1)\n",
            "Requirement already satisfied: typer<1.0.0,>=0.3.0 in /usr/local/lib/python3.11/dist-packages (from spacy) (0.15.3)\n",
            "Requirement already satisfied: tqdm<5.0.0,>=4.38.0 in /usr/local/lib/python3.11/dist-packages (from spacy) (4.67.1)\n",
            "Requirement already satisfied: numpy>=1.19.0 in /usr/local/lib/python3.11/dist-packages (from spacy) (2.0.2)\n",
            "Requirement already satisfied: requests<3.0.0,>=2.13.0 in /usr/local/lib/python3.11/dist-packages (from spacy) (2.32.3)\n",
            "Requirement already satisfied: pydantic!=1.8,!=1.8.1,<3.0.0,>=1.7.4 in /usr/local/lib/python3.11/dist-packages (from spacy) (2.11.4)\n",
            "Requirement already satisfied: jinja2 in /usr/local/lib/python3.11/dist-packages (from spacy) (3.1.6)\n",
            "Requirement already satisfied: setuptools in /usr/local/lib/python3.11/dist-packages (from spacy) (75.2.0)\n",
            "Requirement already satisfied: packaging>=20.0 in /usr/local/lib/python3.11/dist-packages (from spacy) (24.2)\n",
            "Requirement already satisfied: langcodes<4.0.0,>=3.2.0 in /usr/local/lib/python3.11/dist-packages (from spacy) (3.5.0)\n",
            "Requirement already satisfied: language-data>=1.2 in /usr/local/lib/python3.11/dist-packages (from langcodes<4.0.0,>=3.2.0->spacy) (1.3.0)\n",
            "Requirement already satisfied: annotated-types>=0.6.0 in /usr/local/lib/python3.11/dist-packages (from pydantic!=1.8,!=1.8.1,<3.0.0,>=1.7.4->spacy) (0.7.0)\n",
            "Requirement already satisfied: pydantic-core==2.33.2 in /usr/local/lib/python3.11/dist-packages (from pydantic!=1.8,!=1.8.1,<3.0.0,>=1.7.4->spacy) (2.33.2)\n",
            "Requirement already satisfied: typing-extensions>=4.12.2 in /usr/local/lib/python3.11/dist-packages (from pydantic!=1.8,!=1.8.1,<3.0.0,>=1.7.4->spacy) (4.13.2)\n",
            "Requirement already satisfied: typing-inspection>=0.4.0 in /usr/local/lib/python3.11/dist-packages (from pydantic!=1.8,!=1.8.1,<3.0.0,>=1.7.4->spacy) (0.4.0)\n",
            "Requirement already satisfied: charset-normalizer<4,>=2 in /usr/local/lib/python3.11/dist-packages (from requests<3.0.0,>=2.13.0->spacy) (3.4.2)\n",
            "Requirement already satisfied: idna<4,>=2.5 in /usr/local/lib/python3.11/dist-packages (from requests<3.0.0,>=2.13.0->spacy) (3.10)\n",
            "Requirement already satisfied: urllib3<3,>=1.21.1 in /usr/local/lib/python3.11/dist-packages (from requests<3.0.0,>=2.13.0->spacy) (2.4.0)\n",
            "Requirement already satisfied: certifi>=2017.4.17 in /usr/local/lib/python3.11/dist-packages (from requests<3.0.0,>=2.13.0->spacy) (2025.4.26)\n",
            "Requirement already satisfied: blis<1.4.0,>=1.3.0 in /usr/local/lib/python3.11/dist-packages (from thinc<8.4.0,>=8.3.4->spacy) (1.3.0)\n",
            "Requirement already satisfied: confection<1.0.0,>=0.0.1 in /usr/local/lib/python3.11/dist-packages (from thinc<8.4.0,>=8.3.4->spacy) (0.1.5)\n",
            "Requirement already satisfied: click>=8.0.0 in /usr/local/lib/python3.11/dist-packages (from typer<1.0.0,>=0.3.0->spacy) (8.2.0)\n",
            "Requirement already satisfied: shellingham>=1.3.0 in /usr/local/lib/python3.11/dist-packages (from typer<1.0.0,>=0.3.0->spacy) (1.5.4)\n",
            "Requirement already satisfied: rich>=10.11.0 in /usr/local/lib/python3.11/dist-packages (from typer<1.0.0,>=0.3.0->spacy) (13.9.4)\n",
            "Requirement already satisfied: cloudpathlib<1.0.0,>=0.7.0 in /usr/local/lib/python3.11/dist-packages (from weasel<0.5.0,>=0.1.0->spacy) (0.21.0)\n",
            "Requirement already satisfied: smart-open<8.0.0,>=5.2.1 in /usr/local/lib/python3.11/dist-packages (from weasel<0.5.0,>=0.1.0->spacy) (7.1.0)\n",
            "Requirement already satisfied: MarkupSafe>=2.0 in /usr/local/lib/python3.11/dist-packages (from jinja2->spacy) (3.0.2)\n",
            "Requirement already satisfied: marisa-trie>=1.1.0 in /usr/local/lib/python3.11/dist-packages (from language-data>=1.2->langcodes<4.0.0,>=3.2.0->spacy) (1.2.1)\n",
            "Requirement already satisfied: markdown-it-py>=2.2.0 in /usr/local/lib/python3.11/dist-packages (from rich>=10.11.0->typer<1.0.0,>=0.3.0->spacy) (3.0.0)\n",
            "Requirement already satisfied: pygments<3.0.0,>=2.13.0 in /usr/local/lib/python3.11/dist-packages (from rich>=10.11.0->typer<1.0.0,>=0.3.0->spacy) (2.19.1)\n",
            "Requirement already satisfied: wrapt in /usr/local/lib/python3.11/dist-packages (from smart-open<8.0.0,>=5.2.1->weasel<0.5.0,>=0.1.0->spacy) (1.17.2)\n",
            "Requirement already satisfied: mdurl~=0.1 in /usr/local/lib/python3.11/dist-packages (from markdown-it-py>=2.2.0->rich>=10.11.0->typer<1.0.0,>=0.3.0->spacy) (0.1.2)\n",
            "Collecting en-core-web-sm==3.8.0\n",
            "  Downloading https://github.com/explosion/spacy-models/releases/download/en_core_web_sm-3.8.0/en_core_web_sm-3.8.0-py3-none-any.whl (12.8 MB)\n",
            "\u001b[2K     \u001b[90m━━━━━━━━━━━━━━━━━━━━━━━━━━━━━━━━━━━━━━━━\u001b[0m \u001b[32m12.8/12.8 MB\u001b[0m \u001b[31m30.7 MB/s\u001b[0m eta \u001b[36m0:00:00\u001b[0m\n",
            "\u001b[?25h\u001b[38;5;2m✔ Download and installation successful\u001b[0m\n",
            "You can now load the package via spacy.load('en_core_web_sm')\n",
            "\u001b[38;5;3m⚠ Restart to reload dependencies\u001b[0m\n",
            "If you are in a Jupyter or Colab notebook, you may need to restart Python in\n",
            "order to load all the package's dependencies. You can do this by selecting the\n",
            "'Restart kernel' or 'Restart runtime' option.\n"
          ]
        }
      ]
    },
    {
      "cell_type": "code",
      "source": [
        "import spacy\n",
        "nlp = spacy.load('en_core_web_sm')"
      ],
      "metadata": {
        "id": "-TaDmAat1-U8"
      },
      "execution_count": 2,
      "outputs": []
    },
    {
      "cell_type": "code",
      "source": [
        "text = \"\"\"the pateinet is diagnosed with bronchitis and is having discmfort in chest,\n",
        "he also has mild fever lets have meeting with him this week by 23rd May\"\"\""
      ],
      "metadata": {
        "id": "Ud5J4lmd2KP0"
      },
      "execution_count": 3,
      "outputs": []
    },
    {
      "cell_type": "code",
      "source": [
        "insight =nlp(text)"
      ],
      "metadata": {
        "id": "5wnGZ1TC2oMF"
      },
      "execution_count": 4,
      "outputs": []
    },
    {
      "cell_type": "code",
      "source": [
        "insight"
      ],
      "metadata": {
        "id": "YQ64i6EC2tKl",
        "outputId": "31ff624e-eb74-4fa4-a504-02708e0ed76e",
        "colab": {
          "base_uri": "https://localhost:8080/"
        }
      },
      "execution_count": 5,
      "outputs": [
        {
          "output_type": "execute_result",
          "data": {
            "text/plain": [
              "the pateinet is diagnosed with bronchitis and is having discmfort in chest,\n",
              "he also has mild fever lets have meeting with him this week by 23rd May"
            ]
          },
          "metadata": {},
          "execution_count": 5
        }
      ]
    },
    {
      "cell_type": "code",
      "source": [
        "print(\"Tokens: \", [token. text for token in insight])"
      ],
      "metadata": {
        "id": "5-qZt--H22iC",
        "outputId": "92ef6932-3c33-4f07-ba14-16f0659ac455",
        "colab": {
          "base_uri": "https://localhost:8080/"
        }
      },
      "execution_count": 6,
      "outputs": [
        {
          "output_type": "stream",
          "name": "stdout",
          "text": [
            "Tokens:  ['the', 'pateinet', 'is', 'diagnosed', 'with', 'bronchitis', 'and', 'is', 'having', 'discmfort', 'in', 'chest', ',', '\\n', 'he', 'also', 'has', 'mild', 'fever', 'lets', 'have', 'meeting', 'with', 'him', 'this', 'week', 'by', '23rd', 'May']\n"
          ]
        }
      ]
    },
    {
      "cell_type": "code",
      "source": [
        "print(\"Lemma: \", [token. lemma for token in insight])"
      ],
      "metadata": {
        "id": "VJCs-mNx5C-e",
        "outputId": "c221121b-d8c3-45ee-aa34-8935c09781b8",
        "colab": {
          "base_uri": "https://localhost:8080/"
        }
      },
      "execution_count": 8,
      "outputs": [
        {
          "output_type": "stream",
          "name": "stdout",
          "text": [
            "Lemma:  [7425985699627899538, 18054387481215856297, 10382539506755952630, 3226835418890430663, 12510949447758279278, 12139494033492604951, 2283656566040971221, 10382539506755952630, 14692702688101715474, 18182931204853312848, 3002984154512732771, 5129718426112475064, 2593208677638477497, 962983613142996970, 1655312771067108281, 12084876542534825196, 14692702688101715474, 9080267996362097459, 4923225528997309266, 278066919066513387, 14692702688101715474, 6880656908171229526, 12510949447758279278, 1655312771067108281, 1995909169258310477, 14249255431398666181, 16764210730586636600, 12287091686227150480, 16318331901196153511]\n"
          ]
        }
      ]
    },
    {
      "cell_type": "code",
      "source": [
        "print(\"POS TAGS :. \", [(token. text, token.pos_)for token in insight])"
      ],
      "metadata": {
        "id": "X_QQJfhL5PEr",
        "outputId": "d079ea6f-d1be-4e76-bf28-998f8b44f223",
        "colab": {
          "base_uri": "https://localhost:8080/"
        }
      },
      "execution_count": 9,
      "outputs": [
        {
          "output_type": "stream",
          "name": "stdout",
          "text": [
            "POS TAGS :.  [('the', 'DET'), ('pateinet', 'NOUN'), ('is', 'AUX'), ('diagnosed', 'VERB'), ('with', 'ADP'), ('bronchitis', 'NOUN'), ('and', 'CCONJ'), ('is', 'AUX'), ('having', 'VERB'), ('discmfort', 'NOUN'), ('in', 'ADP'), ('chest', 'NOUN'), (',', 'PUNCT'), ('\\n', 'SPACE'), ('he', 'PRON'), ('also', 'ADV'), ('has', 'AUX'), ('mild', 'ADJ'), ('fever', 'NOUN'), ('lets', 'NOUN'), ('have', 'AUX'), ('meeting', 'VERB'), ('with', 'ADP'), ('him', 'PRON'), ('this', 'DET'), ('week', 'NOUN'), ('by', 'ADP'), ('23rd', 'ADJ'), ('May', 'PROPN')]\n"
          ]
        }
      ]
    },
    {
      "cell_type": "code",
      "source": [
        "print(\"Nanmed Entity Recognition: \", [(ent.text, ent. label_)for ent in insight. ents])"
      ],
      "metadata": {
        "id": "HFfjkfnT50Wj",
        "outputId": "b1a7f984-79f8-40d5-b486-f0831ab8deb7",
        "colab": {
          "base_uri": "https://localhost:8080/"
        }
      },
      "execution_count": 10,
      "outputs": [
        {
          "output_type": "stream",
          "name": "stdout",
          "text": [
            "Nanmed Entity Recognition:  [('this week', 'DATE'), ('23rd May', 'DATE')]\n"
          ]
        }
      ]
    },
    {
      "cell_type": "code",
      "source": [
        "print(\"Sentences: \", [sent.text for sent in insight.sents])"
      ],
      "metadata": {
        "id": "MUlLOfp452Ou",
        "outputId": "cf6d5f23-9bea-4eb6-a302-211662333e5b",
        "colab": {
          "base_uri": "https://localhost:8080/"
        }
      },
      "execution_count": 11,
      "outputs": [
        {
          "output_type": "stream",
          "name": "stdout",
          "text": [
            "Sentences:  ['the pateinet is diagnosed with bronchitis and is having discmfort in chest,\\nhe also has mild fever lets have meeting with him this week by 23rd May']\n"
          ]
        }
      ]
    }
  ]
}