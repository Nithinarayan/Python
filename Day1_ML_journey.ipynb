{
  "nbformat": 4,
  "nbformat_minor": 0,
  "metadata": {
    "colab": {
      "provenance": []
    },
    "kernelspec": {
      "name": "python3",
      "display_name": "Python 3"
    },
    "language_info": {
      "name": "python"
    }
  },
  "cells": [
    {
      "cell_type": "code",
      "execution_count": 58,
      "metadata": {
        "colab": {
          "base_uri": "https://localhost:8080/"
        },
        "id": "HpmbKqI7jltH",
        "outputId": "321f0039-5b22-482c-cc41-4fc4b70f59da"
      },
      "outputs": [
        {
          "output_type": "stream",
          "name": "stdout",
          "text": [
            "enter sentence with space :hi bye hi bye sorry boss\n",
            "boss bye hi sorry\n"
          ]
        }
      ],
      "source": [
        "sentence = input(\"enter sentence with space :\")\n",
        "words = sentence.split(' ')\n",
        "setwords = set(words)\n",
        "soretedwords = sorted(setwords)\n",
        "print(\" \".join(soretedwords))\n",
        "\n"
      ]
    },
    {
      "cell_type": "code",
      "source": [
        "list_num = [10,11,12,13,14,15,16,17,18,19,20]\n",
        "listlen = len(list_num)\n",
        "print(\"number of numbers in list :\", list_num)\n",
        "print(\"\\n len of the list :\", listlen)\n",
        "halfval = int(listlen/2)\n",
        "print(\"half value %s :\" %halfval)\n",
        "set_1 = list_num[:halfval]\n",
        "set_2 = list_num[halfval:]\n",
        "print(\"\\nFirst half : \", set_1)\n",
        "print(\"\\nsecond half : \", set_2)\n"
      ],
      "metadata": {
        "id": "MHDecgSW3LFs",
        "outputId": "3897d130-bb7e-48cb-ab02-b9e8e7e32504",
        "colab": {
          "base_uri": "https://localhost:8080/"
        }
      },
      "execution_count": 60,
      "outputs": [
        {
          "output_type": "stream",
          "name": "stdout",
          "text": [
            "number of numbers in list : [10, 11, 12, 13, 14, 15, 16, 17, 18, 19, 20]\n",
            "\n",
            " len of the list : 11\n",
            "half value 5 :\n",
            "\n",
            "First half :  [10, 11, 12, 13, 14]\n",
            "\n",
            "second half :  [15, 16, 17, 18, 19, 20]\n"
          ]
        }
      ]
    },
    {
      "cell_type": "code",
      "source": [
        "typevar = [[1,2,3,3],[3,4,5]]\n",
        "if type(typevar) == int:\n",
        "  print(\"interger type\")\n",
        "elif type(typevar) == str:\n",
        "  print(\"string type\")\n",
        "elif type(typevar) == float:\n",
        "  print(\"float type\")\n",
        "elif type(typevar) == complex:\n",
        "  print(\"complex type\")\n",
        "else:\n",
        "  print(\" exact type is %s :\" %(type(typevar)))"
      ],
      "metadata": {
        "id": "kguZ124lP9rZ",
        "outputId": "42042373-2bdf-4f22-fc7f-bedf6ea65d91",
        "colab": {
          "base_uri": "https://localhost:8080/"
        }
      },
      "execution_count": 70,
      "outputs": [
        {
          "output_type": "stream",
          "name": "stdout",
          "text": [
            " exact type is <class 'list'> :\n"
          ]
        }
      ]
    }
  ]
}